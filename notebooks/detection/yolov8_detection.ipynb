{
 "cells": [
  {
   "cell_type": "code",
   "execution_count": null,
   "metadata": {},
   "outputs": [],
   "source": [
    "# Clone the ultralytics repository\n",
    "! git clone https://github.com/ultralytics/ultralytics\n",
    "# Navigate to the cloned directory\n",
    "%cd ultralytics\n",
    "# Install the package in editable mode for development\n",
    "%pip install -e ."
   ]
  },
  {
   "cell_type": "code",
   "execution_count": 3,
   "metadata": {},
   "outputs": [
    {
     "name": "stdout",
     "output_type": "stream",
     "text": [
      "Ultralytics YOLOv8.0.212 🚀 Python-3.10.13 torch-2.1.1 CPU (Apple M1)\n",
      "Model summary (fused): 168 layers, 3006623 parameters, 0 gradients, 8.1 GFLOPs\n",
      "\n",
      "image 1/1 /Users/shahadaleissa/deep_learning/images/cars2.webp: 448x640 11 cars, 56.2ms\n",
      "Speed: 3.1ms preprocess, 56.2ms inference, 8.8ms postprocess per image at shape (1, 3, 448, 640)\n",
      "Results saved to \u001b[1m/Users/shahadaleissa/deep_learning/predict\u001b[0m\n",
      "💡 Learn more at https://docs.ultralytics.com/modes/predict\n",
      "yolo task=detect mode=predict   project=\"/Users/shahadaleissa/deep_learning\"   3.89s user 0.89s system 124% cpu 3.837 total\n"
     ]
    }
   ],
   "source": [
    "! time yolo task=detect mode=predict model=/Users/shahadaleissa/deep_learning/models/best_yolov8.pt source=\"/Users/shahadaleissa/deep_learning/images/cars2.webp\" project=\"/Users/shahadaleissa/deep_learning\" save=True"
   ]
  }
 ],
 "metadata": {
  "kernelspec": {
   "display_name": "Python 3",
   "language": "python",
   "name": "python3"
  },
  "language_info": {
   "codemirror_mode": {
    "name": "ipython",
    "version": 3
   },
   "file_extension": ".py",
   "mimetype": "text/x-python",
   "name": "python",
   "nbconvert_exporter": "python",
   "pygments_lexer": "ipython3",
   "version": "3.10.13"
  }
 },
 "nbformat": 4,
 "nbformat_minor": 2
}
