{
 "cells": [
  {
   "cell_type": "code",
   "execution_count": 2,
   "metadata": {},
   "outputs": [
    {
     "name": "stderr",
     "output_type": "stream",
     "text": [
      "YOLOv5 🚀 v7.0-241-gb6a65e1 Python-3.10.13 torch-2.1.1 CPU\n"
     ]
    },
    {
     "name": "stdout",
     "output_type": "stream",
     "text": [
      "Setup complete ✅ (8 CPUs, 8.0 GB RAM, 216.1/228.3 GB disk)\n"
     ]
    }
   ],
   "source": [
    "!git clone https://github.com/ultralytics/yolov5  # clone\n",
    "%cd yolov5\n",
    "%pip install -qr requirements.txt comet_ml  # install\n",
    "%pip install utils\n",
    "%pip install torch\n",
    "%pip install ultralytics\n",
    "\n",
    "import torch\n",
    "import utils\n",
    "display = utils.notebook_init()  # checks"
   ]
  },
  {
   "cell_type": "code",
   "execution_count": 3,
   "metadata": {},
   "outputs": [
    {
     "name": "stdout",
     "output_type": "stream",
     "text": [
      "\u001b[34m\u001b[1mdetect: \u001b[0mweights=['/Users/shahadaleissa/deep_learning/models/best_yolov5.pt'], source=/Users/shahadaleissa/deep_learning/images/cars2.webp, data=data/coco128.yaml, imgsz=[640, 640], conf_thres=0.25, iou_thres=0.45, max_det=1000, device=, view_img=False, save_txt=False, save_csv=False, save_conf=False, save_crop=False, nosave=False, classes=None, agnostic_nms=False, augment=False, visualize=False, update=False, project=/Users/shahadaleissa/deep_learning/predict, name=exp, exist_ok=False, line_thickness=3, hide_labels=False, hide_conf=False, half=False, dnn=False, vid_stride=1\n",
      "YOLOv5 🚀 v7.0-241-gb6a65e1 Python-3.10.13 torch-2.1.1 CPU\n",
      "\n",
      "Fusing layers... \n",
      "Model summary: 157 layers, 7023610 parameters, 0 gradients, 15.8 GFLOPs\n",
      "image 1/1 /Users/shahadaleissa/deep_learning/images/cars2.webp: 448x640 11 cars, 156.4ms\n",
      "Speed: 0.9ms pre-process, 156.4ms inference, 7.7ms NMS per image at shape (1, 3, 640, 640)\n",
      "Results saved to \u001b[1m/Users/shahadaleissa/deep_learning/predict/exp\u001b[0m\n",
      "python3 detect.py --weights  --source  --img 640 --project   5.26s user 0.87s system 115% cpu 5.288 total\n"
     ]
    }
   ],
   "source": [
    "! time python3 detect.py --weights /Users/shahadaleissa/deep_learning/models/best_yolov5.pt  --source /Users/shahadaleissa/deep_learning/images/cars2.webp --img 640 --project /Users/shahadaleissa/deep_learning/predict"
   ]
  }
 ],
 "metadata": {
  "kernelspec": {
   "display_name": "Python 3",
   "language": "python",
   "name": "python3"
  },
  "language_info": {
   "codemirror_mode": {
    "name": "ipython",
    "version": 3
   },
   "file_extension": ".py",
   "mimetype": "text/x-python",
   "name": "python",
   "nbconvert_exporter": "python",
   "pygments_lexer": "ipython3",
   "version": "3.10.13"
  }
 },
 "nbformat": 4,
 "nbformat_minor": 2
}
